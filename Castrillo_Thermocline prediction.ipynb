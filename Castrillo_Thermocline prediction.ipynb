{
 "cells": [
  {
   "cell_type": "markdown",
   "id": "81fc9f42-5e36-4055-9499-d2d45eb0c6d8",
   "metadata": {},
   "source": [
    "<center><h1>A data-driven approach for the assessment of the thermal stratification of reservoirs based on readily available data.</h1> "
   ]
  },
  {
   "cell_type": "markdown",
   "id": "251e1718-548d-4a0c-8158-4d7b3a874330",
   "metadata": {},
   "source": [
    "<center><h4><span style='color:royalblue'> María Castrillo </span>, Fernando Aguilar, Daniel García\n",
    "<center> (castrillo@ifca.unican.es)"
   ]
  },
  {
   "cell_type": "code",
   "execution_count": 1,
   "id": "026756b1-2ad0-46b4-826e-3c83af4bf19a",
   "metadata": {},
   "outputs": [
    {
     "name": "stdout",
     "output_type": "stream",
     "text": [
      "WARNING:tensorflow:From D:\\Anaconda\\Lib\\site-packages\\keras\\src\\losses.py:2976: The name tf.losses.sparse_softmax_cross_entropy is deprecated. Please use tf.compat.v1.losses.sparse_softmax_cross_entropy instead.\n",
      "\n"
     ]
    },
    {
     "name": "stderr",
     "output_type": "stream",
     "text": [
      "IProgress not found. Please update jupyter and ipywidgets. See https://ipywidgets.readthedocs.io/en/stable/user_install.html\n"
     ]
    }
   ],
   "source": [
    "#Import libraries and pack\n",
    "import pandas as pd\n",
    "import numpy as np\n",
    "import matplotlib as mpl\n",
    "import matplotlib.pyplot as plt\n",
    "import matplotlib.dates as mdates\n",
    "import seaborn as sns\n",
    "import scipy\n",
    "import sklearn\n",
    "import mlxtend\n",
    "import tensorflow as tf\n",
    "import shap\n",
    "import scikeras"
   ]
  },
  {
   "cell_type": "code",
   "execution_count": 2,
   "id": "174d05fb",
   "metadata": {},
   "outputs": [],
   "source": [
    "from scikeras.wrappers import KerasRegressor, KerasClassifier"
   ]
  },
  {
   "cell_type": "code",
   "execution_count": 3,
   "id": "ad8bc430",
   "metadata": {},
   "outputs": [],
   "source": [
    "from tensorflow import keras\n",
    "from keras import optimizers\n",
    "from keras.models import Sequential\n",
    "from keras.layers import Dense, Activation, LSTM, Dropout, SimpleRNN"
   ]
  },
  {
   "cell_type": "code",
   "execution_count": 4,
   "id": "ac9d5237",
   "metadata": {},
   "outputs": [],
   "source": [
    "from sklearn.cluster import KMeans\n",
    "from sklearn.model_selection import KFold, cross_val_score, cross_validate\n",
    "from sklearn.preprocessing import MinMaxScaler, StandardScaler\n",
    "from sklearn.metrics import mean_absolute_error"
   ]
  },
  {
   "cell_type": "code",
   "execution_count": 5,
   "id": "85105a1d-ac14-4896-a59c-33fbe4357bd0",
   "metadata": {},
   "outputs": [],
   "source": [
    "plt.rcParams[\"font.family\"] = \"serif\""
   ]
  },
  {
   "cell_type": "code",
   "execution_count": 6,
   "id": "f83fb22c",
   "metadata": {},
   "outputs": [],
   "source": [
    "tf.keras.utils.set_random_seed(42)"
   ]
  },
  {
   "cell_type": "code",
   "execution_count": 7,
   "id": "e3803857",
   "metadata": {},
   "outputs": [],
   "source": [
    "#Read the data\n",
    "data = pd.read_csv(\"maxprofiles.csv\", sep=\";\")\n",
    "data[\"Date\"] = pd.to_datetime(data[\"Date\"])"
   ]
  },
  {
   "cell_type": "code",
   "execution_count": 8,
   "id": "6648c3ef",
   "metadata": {},
   "outputs": [
    {
     "name": "stdout",
     "output_type": "stream",
     "text": [
      "<class 'pandas.core.frame.DataFrame'>\n",
      "RangeIndex: 1688 entries, 0 to 1687\n",
      "Data columns (total 25 columns):\n",
      " #   Column             Non-Null Count  Dtype         \n",
      "---  ------             --------------  -----         \n",
      " 0   Unnamed: 0         1688 non-null   int64         \n",
      " 1   Date               1688 non-null   datetime64[ns]\n",
      " 2   Depth              1688 non-null   float64       \n",
      " 3   SampleLevel        1688 non-null   float64       \n",
      " 4   Temp               1688 non-null   float64       \n",
      " 5   pH                 1688 non-null   float64       \n",
      " 6   Redox              1688 non-null   float64       \n",
      " 7   Cond               1688 non-null   float64       \n",
      " 8   OD                 1688 non-null   float64       \n",
      " 9   Turb               1688 non-null   float64       \n",
      " 10  Chl                1688 non-null   float64       \n",
      " 11  Datetime           1688 non-null   object        \n",
      " 12  Thermocline        1688 non-null   float64       \n",
      " 13  Thermocline_depth  941 non-null    float64       \n",
      " 14  Thermocline_temp   941 non-null    float64       \n",
      " 15  Gradient           1676 non-null   float64       \n",
      " 16  AirTempMax         1686 non-null   float64       \n",
      " 17  AirTempMin         1686 non-null   float64       \n",
      " 18  AirTempAvg         1686 non-null   float64       \n",
      " 19  Level              1688 non-null   float64       \n",
      " 20  Wind               1686 non-null   float64       \n",
      " 21  RadMax             1671 non-null   float64       \n",
      " 22  RadAvg             1671 non-null   float64       \n",
      " 23  Rain               1674 non-null   float64       \n",
      " 24  Flow               1688 non-null   float64       \n",
      "dtypes: datetime64[ns](1), float64(22), int64(1), object(1)\n",
      "memory usage: 329.8+ KB\n"
     ]
    }
   ],
   "source": [
    "data.info()"
   ]
  },
  {
   "cell_type": "code",
   "execution_count": 9,
   "id": "30dbc107",
   "metadata": {},
   "outputs": [],
   "source": [
    "data = data.drop(columns = [\"Unnamed: 0\", \"Depth\", \"SampleLevel\", \"Turb\", \"Temp\", \"pH\", \"Redox\", \"Cond\", \"OD\", \"Chl\"])"
   ]
  },
  {
   "cell_type": "code",
   "execution_count": 10,
   "id": "182a7b9b",
   "metadata": {},
   "outputs": [
    {
     "data": {
      "text/html": [
       "<div>\n",
       "<style scoped>\n",
       "    .dataframe tbody tr th:only-of-type {\n",
       "        vertical-align: middle;\n",
       "    }\n",
       "\n",
       "    .dataframe tbody tr th {\n",
       "        vertical-align: top;\n",
       "    }\n",
       "\n",
       "    .dataframe thead th {\n",
       "        text-align: right;\n",
       "    }\n",
       "</style>\n",
       "<table border=\"1\" class=\"dataframe\">\n",
       "  <thead>\n",
       "    <tr style=\"text-align: right;\">\n",
       "      <th></th>\n",
       "      <th>Date</th>\n",
       "      <th>Thermocline</th>\n",
       "      <th>Thermocline_depth</th>\n",
       "      <th>Thermocline_temp</th>\n",
       "      <th>Gradient</th>\n",
       "      <th>AirTempMax</th>\n",
       "      <th>AirTempMin</th>\n",
       "      <th>AirTempAvg</th>\n",
       "      <th>Level</th>\n",
       "      <th>Wind</th>\n",
       "      <th>RadMax</th>\n",
       "      <th>RadAvg</th>\n",
       "      <th>Rain</th>\n",
       "      <th>Flow</th>\n",
       "    </tr>\n",
       "  </thead>\n",
       "  <tbody>\n",
       "    <tr>\n",
       "      <th>count</th>\n",
       "      <td>1688</td>\n",
       "      <td>1688.000000</td>\n",
       "      <td>941.000000</td>\n",
       "      <td>941.000000</td>\n",
       "      <td>1676.000000</td>\n",
       "      <td>1686.000000</td>\n",
       "      <td>1686.000000</td>\n",
       "      <td>1686.000000</td>\n",
       "      <td>1688.000000</td>\n",
       "      <td>1686.000000</td>\n",
       "      <td>1671.000000</td>\n",
       "      <td>1671.000000</td>\n",
       "      <td>1674.000000</td>\n",
       "      <td>1688.000000</td>\n",
       "    </tr>\n",
       "    <tr>\n",
       "      <th>mean</th>\n",
       "      <td>2020-07-13 05:46:21.042653952</td>\n",
       "      <td>0.557464</td>\n",
       "      <td>12.471156</td>\n",
       "      <td>17.289691</td>\n",
       "      <td>0.519534</td>\n",
       "      <td>20.049193</td>\n",
       "      <td>8.515534</td>\n",
       "      <td>13.822960</td>\n",
       "      <td>613.694171</td>\n",
       "      <td>1.234193</td>\n",
       "      <td>366.434650</td>\n",
       "      <td>79.509928</td>\n",
       "      <td>1.246416</td>\n",
       "      <td>0.821594</td>\n",
       "    </tr>\n",
       "    <tr>\n",
       "      <th>min</th>\n",
       "      <td>2018-01-20 00:00:00</td>\n",
       "      <td>0.000000</td>\n",
       "      <td>2.012883</td>\n",
       "      <td>8.326815</td>\n",
       "      <td>-0.049997</td>\n",
       "      <td>-0.900000</td>\n",
       "      <td>-6.600000</td>\n",
       "      <td>-3.170000</td>\n",
       "      <td>604.610000</td>\n",
       "      <td>0.000000</td>\n",
       "      <td>0.000000</td>\n",
       "      <td>0.000000</td>\n",
       "      <td>0.000000</td>\n",
       "      <td>0.088000</td>\n",
       "    </tr>\n",
       "    <tr>\n",
       "      <th>25%</th>\n",
       "      <td>2019-04-13 18:00:00</td>\n",
       "      <td>0.000000</td>\n",
       "      <td>6.291062</td>\n",
       "      <td>14.737759</td>\n",
       "      <td>0.049247</td>\n",
       "      <td>13.300000</td>\n",
       "      <td>4.000000</td>\n",
       "      <td>8.190000</td>\n",
       "      <td>610.425000</td>\n",
       "      <td>1.000000</td>\n",
       "      <td>259.000000</td>\n",
       "      <td>39.505000</td>\n",
       "      <td>0.000000</td>\n",
       "      <td>0.190000</td>\n",
       "    </tr>\n",
       "    <tr>\n",
       "      <th>50%</th>\n",
       "      <td>2020-08-04 12:00:00</td>\n",
       "      <td>1.000000</td>\n",
       "      <td>8.441934</td>\n",
       "      <td>17.393472</td>\n",
       "      <td>0.398729</td>\n",
       "      <td>19.100000</td>\n",
       "      <td>8.150000</td>\n",
       "      <td>13.015000</td>\n",
       "      <td>614.540000</td>\n",
       "      <td>1.180000</td>\n",
       "      <td>389.000000</td>\n",
       "      <td>72.830000</td>\n",
       "      <td>0.000000</td>\n",
       "      <td>0.679500</td>\n",
       "    </tr>\n",
       "    <tr>\n",
       "      <th>75%</th>\n",
       "      <td>2021-10-10 06:00:00</td>\n",
       "      <td>1.000000</td>\n",
       "      <td>14.563156</td>\n",
       "      <td>20.054079</td>\n",
       "      <td>0.806763</td>\n",
       "      <td>27.100000</td>\n",
       "      <td>13.400000</td>\n",
       "      <td>19.610000</td>\n",
       "      <td>617.120000</td>\n",
       "      <td>1.420000</td>\n",
       "      <td>479.000000</td>\n",
       "      <td>117.405000</td>\n",
       "      <td>0.200000</td>\n",
       "      <td>1.272000</td>\n",
       "    </tr>\n",
       "    <tr>\n",
       "      <th>max</th>\n",
       "      <td>2022-12-22 00:00:00</td>\n",
       "      <td>1.000000</td>\n",
       "      <td>37.629839</td>\n",
       "      <td>24.808426</td>\n",
       "      <td>4.315071</td>\n",
       "      <td>41.700000</td>\n",
       "      <td>21.900000</td>\n",
       "      <td>32.270000</td>\n",
       "      <td>619.880000</td>\n",
       "      <td>3.820000</td>\n",
       "      <td>1353.000000</td>\n",
       "      <td>422.420000</td>\n",
       "      <td>88.500000</td>\n",
       "      <td>2.834000</td>\n",
       "    </tr>\n",
       "    <tr>\n",
       "      <th>std</th>\n",
       "      <td>NaN</td>\n",
       "      <td>0.496834</td>\n",
       "      <td>9.314165</td>\n",
       "      <td>3.187200</td>\n",
       "      <td>0.549628</td>\n",
       "      <td>8.586954</td>\n",
       "      <td>5.752663</td>\n",
       "      <td>7.046232</td>\n",
       "      <td>4.200454</td>\n",
       "      <td>0.406286</td>\n",
       "      <td>138.675878</td>\n",
       "      <td>45.946732</td>\n",
       "      <td>4.633908</td>\n",
       "      <td>0.677054</td>\n",
       "    </tr>\n",
       "  </tbody>\n",
       "</table>\n",
       "</div>"
      ],
      "text/plain": [
       "                                Date  Thermocline  Thermocline_depth  \\\n",
       "count                           1688  1688.000000         941.000000   \n",
       "mean   2020-07-13 05:46:21.042653952     0.557464          12.471156   \n",
       "min              2018-01-20 00:00:00     0.000000           2.012883   \n",
       "25%              2019-04-13 18:00:00     0.000000           6.291062   \n",
       "50%              2020-08-04 12:00:00     1.000000           8.441934   \n",
       "75%              2021-10-10 06:00:00     1.000000          14.563156   \n",
       "max              2022-12-22 00:00:00     1.000000          37.629839   \n",
       "std                              NaN     0.496834           9.314165   \n",
       "\n",
       "       Thermocline_temp     Gradient   AirTempMax   AirTempMin   AirTempAvg  \\\n",
       "count        941.000000  1676.000000  1686.000000  1686.000000  1686.000000   \n",
       "mean          17.289691     0.519534    20.049193     8.515534    13.822960   \n",
       "min            8.326815    -0.049997    -0.900000    -6.600000    -3.170000   \n",
       "25%           14.737759     0.049247    13.300000     4.000000     8.190000   \n",
       "50%           17.393472     0.398729    19.100000     8.150000    13.015000   \n",
       "75%           20.054079     0.806763    27.100000    13.400000    19.610000   \n",
       "max           24.808426     4.315071    41.700000    21.900000    32.270000   \n",
       "std            3.187200     0.549628     8.586954     5.752663     7.046232   \n",
       "\n",
       "             Level         Wind       RadMax       RadAvg         Rain  \\\n",
       "count  1688.000000  1686.000000  1671.000000  1671.000000  1674.000000   \n",
       "mean    613.694171     1.234193   366.434650    79.509928     1.246416   \n",
       "min     604.610000     0.000000     0.000000     0.000000     0.000000   \n",
       "25%     610.425000     1.000000   259.000000    39.505000     0.000000   \n",
       "50%     614.540000     1.180000   389.000000    72.830000     0.000000   \n",
       "75%     617.120000     1.420000   479.000000   117.405000     0.200000   \n",
       "max     619.880000     3.820000  1353.000000   422.420000    88.500000   \n",
       "std       4.200454     0.406286   138.675878    45.946732     4.633908   \n",
       "\n",
       "              Flow  \n",
       "count  1688.000000  \n",
       "mean      0.821594  \n",
       "min       0.088000  \n",
       "25%       0.190000  \n",
       "50%       0.679500  \n",
       "75%       1.272000  \n",
       "max       2.834000  \n",
       "std       0.677054  "
      ]
     },
     "execution_count": 10,
     "metadata": {},
     "output_type": "execute_result"
    }
   ],
   "source": [
    "data.describe()"
   ]
  },
  {
   "cell_type": "markdown",
   "id": "27738043-40e1-4327-b01f-4d10f97192f4",
   "metadata": {},
   "source": [
    "# Preprocessing"
   ]
  },
  {
   "cell_type": "markdown",
   "id": "0c012339",
   "metadata": {},
   "source": [
    "## Outliers"
   ]
  },
  {
   "cell_type": "code",
   "execution_count": 11,
   "id": "765913b3",
   "metadata": {},
   "outputs": [],
   "source": [
    "#After visual inspection we eliminate observations with RadMax > 800 and RadAvg < 180, which are obvious outliers in this time series.\n",
    "data = data[data[\"RadMax\"] < 800]\n",
    "data = data[data[\"RadAvg\"] < 180]"
   ]
  },
  {
   "cell_type": "code",
   "execution_count": 12,
   "id": "0b6e25d9-0514-4f87-9fa8-ff6bb5e9a5f7",
   "metadata": {},
   "outputs": [
    {
     "data": {
      "text/html": [
       "<div>\n",
       "<style scoped>\n",
       "    .dataframe tbody tr th:only-of-type {\n",
       "        vertical-align: middle;\n",
       "    }\n",
       "\n",
       "    .dataframe tbody tr th {\n",
       "        vertical-align: top;\n",
       "    }\n",
       "\n",
       "    .dataframe thead th {\n",
       "        text-align: right;\n",
       "    }\n",
       "</style>\n",
       "<table border=\"1\" class=\"dataframe\">\n",
       "  <thead>\n",
       "    <tr style=\"text-align: right;\">\n",
       "      <th></th>\n",
       "      <th>Date</th>\n",
       "      <th>Thermocline</th>\n",
       "      <th>Thermocline_depth</th>\n",
       "      <th>Thermocline_temp</th>\n",
       "      <th>Gradient</th>\n",
       "      <th>AirTempMax</th>\n",
       "      <th>AirTempMin</th>\n",
       "      <th>AirTempAvg</th>\n",
       "      <th>Level</th>\n",
       "      <th>Wind</th>\n",
       "      <th>RadMax</th>\n",
       "      <th>RadAvg</th>\n",
       "      <th>Rain</th>\n",
       "      <th>Flow</th>\n",
       "    </tr>\n",
       "  </thead>\n",
       "  <tbody>\n",
       "    <tr>\n",
       "      <th>count</th>\n",
       "      <td>1667</td>\n",
       "      <td>1667.000000</td>\n",
       "      <td>922.000000</td>\n",
       "      <td>922.000000</td>\n",
       "      <td>1655.000000</td>\n",
       "      <td>1667.000000</td>\n",
       "      <td>1667.000000</td>\n",
       "      <td>1667.000000</td>\n",
       "      <td>1667.000000</td>\n",
       "      <td>1667.000000</td>\n",
       "      <td>1667.000000</td>\n",
       "      <td>1667.000000</td>\n",
       "      <td>1655.000000</td>\n",
       "      <td>1667.000000</td>\n",
       "    </tr>\n",
       "    <tr>\n",
       "      <th>mean</th>\n",
       "      <td>2020-07-04 06:44:16.268746240</td>\n",
       "      <td>0.553089</td>\n",
       "      <td>12.255502</td>\n",
       "      <td>17.303777</td>\n",
       "      <td>0.519030</td>\n",
       "      <td>20.011362</td>\n",
       "      <td>8.492136</td>\n",
       "      <td>13.793311</td>\n",
       "      <td>613.790594</td>\n",
       "      <td>1.235573</td>\n",
       "      <td>364.749430</td>\n",
       "      <td>79.010312</td>\n",
       "      <td>1.255710</td>\n",
       "      <td>0.819040</td>\n",
       "    </tr>\n",
       "    <tr>\n",
       "      <th>min</th>\n",
       "      <td>2018-01-20 00:00:00</td>\n",
       "      <td>0.000000</td>\n",
       "      <td>2.012883</td>\n",
       "      <td>8.326815</td>\n",
       "      <td>-0.049997</td>\n",
       "      <td>-0.900000</td>\n",
       "      <td>-6.600000</td>\n",
       "      <td>-3.170000</td>\n",
       "      <td>604.760000</td>\n",
       "      <td>0.000000</td>\n",
       "      <td>0.000000</td>\n",
       "      <td>0.000000</td>\n",
       "      <td>0.000000</td>\n",
       "      <td>0.088000</td>\n",
       "    </tr>\n",
       "    <tr>\n",
       "      <th>25%</th>\n",
       "      <td>2019-04-08 12:00:00</td>\n",
       "      <td>0.000000</td>\n",
       "      <td>6.252587</td>\n",
       "      <td>14.678371</td>\n",
       "      <td>0.045907</td>\n",
       "      <td>13.300000</td>\n",
       "      <td>3.950000</td>\n",
       "      <td>8.110000</td>\n",
       "      <td>610.680000</td>\n",
       "      <td>1.000000</td>\n",
       "      <td>259.000000</td>\n",
       "      <td>39.395000</td>\n",
       "      <td>0.000000</td>\n",
       "      <td>0.190000</td>\n",
       "    </tr>\n",
       "    <tr>\n",
       "      <th>50%</th>\n",
       "      <td>2020-07-27 00:00:00</td>\n",
       "      <td>1.000000</td>\n",
       "      <td>8.314671</td>\n",
       "      <td>17.440326</td>\n",
       "      <td>0.394632</td>\n",
       "      <td>19.000000</td>\n",
       "      <td>8.100000</td>\n",
       "      <td>12.990000</td>\n",
       "      <td>614.600000</td>\n",
       "      <td>1.180000</td>\n",
       "      <td>389.000000</td>\n",
       "      <td>72.700000</td>\n",
       "      <td>0.000000</td>\n",
       "      <td>0.670000</td>\n",
       "    </tr>\n",
       "    <tr>\n",
       "      <th>75%</th>\n",
       "      <td>2021-09-26 12:00:00</td>\n",
       "      <td>1.000000</td>\n",
       "      <td>13.643029</td>\n",
       "      <td>20.077108</td>\n",
       "      <td>0.807797</td>\n",
       "      <td>27.100000</td>\n",
       "      <td>13.400000</td>\n",
       "      <td>19.665000</td>\n",
       "      <td>617.130000</td>\n",
       "      <td>1.430000</td>\n",
       "      <td>478.500000</td>\n",
       "      <td>116.890000</td>\n",
       "      <td>0.200000</td>\n",
       "      <td>1.272500</td>\n",
       "    </tr>\n",
       "    <tr>\n",
       "      <th>max</th>\n",
       "      <td>2022-12-22 00:00:00</td>\n",
       "      <td>1.000000</td>\n",
       "      <td>37.629839</td>\n",
       "      <td>24.808426</td>\n",
       "      <td>4.315071</td>\n",
       "      <td>41.700000</td>\n",
       "      <td>21.900000</td>\n",
       "      <td>32.270000</td>\n",
       "      <td>619.880000</td>\n",
       "      <td>3.820000</td>\n",
       "      <td>720.000000</td>\n",
       "      <td>175.850000</td>\n",
       "      <td>88.500000</td>\n",
       "      <td>2.834000</td>\n",
       "    </tr>\n",
       "    <tr>\n",
       "      <th>std</th>\n",
       "      <td>NaN</td>\n",
       "      <td>0.497323</td>\n",
       "      <td>9.266601</td>\n",
       "      <td>3.214957</td>\n",
       "      <td>0.552418</td>\n",
       "      <td>8.618713</td>\n",
       "      <td>5.776837</td>\n",
       "      <td>7.076304</td>\n",
       "      <td>4.127283</td>\n",
       "      <td>0.407969</td>\n",
       "      <td>133.328823</td>\n",
       "      <td>44.406074</td>\n",
       "      <td>4.656001</td>\n",
       "      <td>0.679128</td>\n",
       "    </tr>\n",
       "  </tbody>\n",
       "</table>\n",
       "</div>"
      ],
      "text/plain": [
       "                                Date  Thermocline  Thermocline_depth  \\\n",
       "count                           1667  1667.000000         922.000000   \n",
       "mean   2020-07-04 06:44:16.268746240     0.553089          12.255502   \n",
       "min              2018-01-20 00:00:00     0.000000           2.012883   \n",
       "25%              2019-04-08 12:00:00     0.000000           6.252587   \n",
       "50%              2020-07-27 00:00:00     1.000000           8.314671   \n",
       "75%              2021-09-26 12:00:00     1.000000          13.643029   \n",
       "max              2022-12-22 00:00:00     1.000000          37.629839   \n",
       "std                              NaN     0.497323           9.266601   \n",
       "\n",
       "       Thermocline_temp     Gradient   AirTempMax   AirTempMin   AirTempAvg  \\\n",
       "count        922.000000  1655.000000  1667.000000  1667.000000  1667.000000   \n",
       "mean          17.303777     0.519030    20.011362     8.492136    13.793311   \n",
       "min            8.326815    -0.049997    -0.900000    -6.600000    -3.170000   \n",
       "25%           14.678371     0.045907    13.300000     3.950000     8.110000   \n",
       "50%           17.440326     0.394632    19.000000     8.100000    12.990000   \n",
       "75%           20.077108     0.807797    27.100000    13.400000    19.665000   \n",
       "max           24.808426     4.315071    41.700000    21.900000    32.270000   \n",
       "std            3.214957     0.552418     8.618713     5.776837     7.076304   \n",
       "\n",
       "             Level         Wind       RadMax       RadAvg         Rain  \\\n",
       "count  1667.000000  1667.000000  1667.000000  1667.000000  1655.000000   \n",
       "mean    613.790594     1.235573   364.749430    79.010312     1.255710   \n",
       "min     604.760000     0.000000     0.000000     0.000000     0.000000   \n",
       "25%     610.680000     1.000000   259.000000    39.395000     0.000000   \n",
       "50%     614.600000     1.180000   389.000000    72.700000     0.000000   \n",
       "75%     617.130000     1.430000   478.500000   116.890000     0.200000   \n",
       "max     619.880000     3.820000   720.000000   175.850000    88.500000   \n",
       "std       4.127283     0.407969   133.328823    44.406074     4.656001   \n",
       "\n",
       "              Flow  \n",
       "count  1667.000000  \n",
       "mean      0.819040  \n",
       "min       0.088000  \n",
       "25%       0.190000  \n",
       "50%       0.670000  \n",
       "75%       1.272500  \n",
       "max       2.834000  \n",
       "std       0.679128  "
      ]
     },
     "execution_count": 12,
     "metadata": {},
     "output_type": "execute_result"
    }
   ],
   "source": [
    "data.describe()"
   ]
  },
  {
   "cell_type": "markdown",
   "id": "b63567aa-6f6a-4f33-9865-18164ed38ce4",
   "metadata": {},
   "source": [
    "## Violin plots"
   ]
  },
  {
   "cell_type": "code",
   "execution_count": 13,
   "id": "2816d36f",
   "metadata": {},
   "outputs": [
    {
     "data": {
      "image/png": "[encoded data removed]",
      "text/plain": [
       "<Figure size 1200x600 with 9 Axes>"
      ]
     },
     "metadata": {},
     "output_type": "display_data"
    }
   ],
   "source": [
    "cols = [\"AirTempMax\", \"AirTempMin\", \"AirTempAvg\", \"Wind\", \"RadMax\", \"RadAvg\", \"Rain\", \"Level\", \"Flow\", \"Flow\"]\n",
    "\n",
    "dark_gray = \"#000000\"\n",
    "light_gray = \"#eeeeee\"\n",
    "\n",
    "fig, axs = plt.subplots(2, 5, figsize=(12, 6), layout='constrained')\n",
    "\n",
    "for i, col in enumerate(cols): \n",
    "    ax = axs.flat[i]\n",
    "    sns.violinplot(y=data[col], ax=ax,  color=\"lightsalmon\")\n",
    "    ax.spines[\"top\"].set_visible(False)\n",
    "    ax.spines[\"right\"].set_visible(False)\n",
    "    ax.spines[\"left\"].set_color(dark_gray)\n",
    "    ax.spines[\"bottom\"].set_color(dark_gray)\n",
    "    ax.set_facecolor('xkcd:white')\n",
    "    \n",
    "    ax.get_yaxis().tick_left()\n",
    "    ax.get_xaxis().tick_bottom()\n",
    "    \n",
    "    ax.tick_params(axis=\"both\", which=\"major\", labelsize=12, colors=dark_gray)\n",
    "    ax.tick_params(axis=\"both\", which=\"minor\", labelsize=10, colors=dark_gray)\n",
    "    ax.xaxis.label.set_color(dark_gray)\n",
    "    ax.set_ylabel(cols[i], fontsize=14)\n",
    "    \n",
    "fig.delaxes(ax)"
   ]
  },
  {
   "cell_type": "markdown",
   "id": "acd2ea09",
   "metadata": {},
   "source": [
    "## Data shifts"
   ]
  },
  {
   "cell_type": "code",
   "execution_count": 14,
   "id": "e7089735",
   "metadata": {},
   "outputs": [],
   "source": [
    "data[[\"AirTempAvg1\", \"Wind1\", \"AirTempMin1\", \"AirTempMax1\", \"RadMax1\", \"RadAvg1\", \"Rain1\", \"Level1\", \"Flow1\"]]=data[[\"AirTempAvg\", \"Wind\", \"AirTempMin\", \"AirTempMax\", \"RadMax\", \"RadAvg\", \"Rain\", \"Level\", \"Flow\"]].shift(1, axis = 0)\n",
    "data[[\"AirTempAvg2\", \"Wind2\", \"AirTempMin2\", \"AirTempMax2\", \"RadMax2\", \"RadAvg2\", \"Rain2\", \"Level2\", \"Flow2\"]]=data[[\"AirTempAvg\", \"Wind\", \"AirTempMin\", \"AirTempMax\", \"RadMax\", \"RadAvg\", \"Rain\", \"Level\", \"Flow\"]].shift(2, axis = 0)\n",
    "data[[\"AirTempAvg3\", \"Wind3\", \"AirTempMin3\", \"AirTempMax3\", \"RadMax3\", \"RadAvg3\", \"Rain3\", \"Level3\", \"Flow3\"]]=data[[\"AirTempAvg\", \"Wind\", \"AirTempMin\", \"AirTempMax\", \"RadMax\", \"RadAvg\", \"Rain\", \"Level\", \"Flow\"]].shift(3, axis = 0)\n",
    "data[[\"AirTempAvg4\", \"Wind4\", \"AirTempMin4\", \"AirTempMax4\", \"RadMax4\", \"RadAvg4\", \"Rain4\", \"Level4\", \"Flow4\"]]=data[[\"AirTempAvg\", \"Wind\", \"AirTempMin\", \"AirTempMax\", \"RadMax\", \"RadAvg\", \"Rain\", \"Level\", \"Flow\"]].shift(4, axis = 0)\n",
    "data[[\"AirTempAvg5\", \"Wind5\", \"AirTempMin5\", \"AirTempMax5\", \"RadMax5\", \"RadAvg5\", \"Rain5\", \"Level5\", \"Flow5\"]]=data[[\"AirTempAvg\", \"Wind\", \"AirTempMin\", \"AirTempMax\", \"RadMax\", \"RadAvg\", \"Rain\", \"Level\", \"Flow\"]].shift(5, axis = 0)"
   ]
  },
  {
   "cell_type": "markdown",
   "id": "fcf38094-bc55-44e1-9d3b-9048294ffa86",
   "metadata": {},
   "source": [
    "# Modelling"
   ]
  },
  {
   "cell_type": "markdown",
   "id": "a4f8d223",
   "metadata": {},
   "source": [
    "## Unsupervised detection of the thermocline"
   ]
  },
  {
   "cell_type": "code",
   "execution_count": 15,
   "id": "aaf7559b",
   "metadata": {},
   "outputs": [],
   "source": [
    "#data[\"Date\"]  = pd.to_datetime(data[\"Date\"], format = \"%Y-%M-%d\").dt.normalize()\n",
    "#Separate train and test fractions\n",
    "data2 = data.drop(columns = [\"Thermocline_depth\", \"Thermocline_temp\"])\n",
    "train = data2[data2[\"Date\"] <= \"2021-12-31\"].dropna()\n",
    "test = data2[data2[\"Date\"] >= \"2022-01-01\"].dropna()"
   ]
  },
  {
   "cell_type": "code",
   "execution_count": 16,
   "id": "875dca74",
   "metadata": {},
   "outputs": [],
   "source": [
    "#Define inputs and target variable\n",
    "X = train[[\"AirTempAvg\", \"Wind\", \"AirTempMin\", \"AirTempMax\", \"RadMax\", \"RadAvg\", \"Rain\", \"Level\", \"Flow\"]]\n",
    "y = train[\"Thermocline\"]"
   ]
  },
  {
   "cell_type": "code",
   "execution_count": 17,
   "id": "07f5c58b-c169-4a21-b0b5-50b966d62211",
   "metadata": {},
   "outputs": [],
   "source": [
    "#Scale the input\n",
    "scaler = StandardScaler()\n",
    "X_scaled = scaler.fit_transform(X)"
   ]
  },
  {
   "cell_type": "code",
   "execution_count": 23,
   "id": "1bb20054",
   "metadata": {},
   "outputs": [
    {
     "name": "stderr",
     "output_type": "stream",
     "text": [
      "The default value of `n_init` will change from 10 to 'auto' in 1.4. Set the value of `n_init` explicitly to suppress the warning\n"
     ]
    }
   ],
   "source": [
    "#Define and train the model\n",
    "kmeans = KMeans(n_clusters= 2, \n",
    "            random_state=42)\n",
    "\n",
    "kmeans.fit(X_scaled)\n",
    "\n",
    "#Predict the clusters\n",
    "kmeans_pred = kmeans.predict(X_scaled)"
   ]
  },
  {
   "cell_type": "code",
   "execution_count": 24,
   "id": "11d332c7",
   "metadata": {},
   "outputs": [],
   "source": [
    "kmeans_pred = pd.DataFrame(kmeans_pred).set_index(y.index)"
   ]
  },
  {
   "cell_type": "code",
   "execution_count": 25,
   "id": "af85e6f3",
   "metadata": {},
   "outputs": [
    {
     "data": {
      "text/plain": [
       "array([[-0.72860898, -0.11661967, -0.67534592, -0.72853517, -0.65189836,\n",
       "        -0.68425177,  0.07913463, -0.11677786, -0.39218726],\n",
       "       [ 0.9113829 ,  0.14587409,  0.84475864,  0.91129058,  0.81542917,\n",
       "         0.85589854, -0.09898581,  0.14607196,  0.49056871]])"
      ]
     },
     "execution_count": 25,
     "metadata": {},
     "output_type": "execute_result"
    }
   ],
   "source": [
    "#Obtain clusters centers\n",
    "kmeans.cluster_centers_"
   ]
  },
  {
   "cell_type": "code",
   "execution_count": 26,
   "id": "c3eb575c",
   "metadata": {},
   "outputs": [],
   "source": [
    "train = train.merge(kmeans_pred, left_index=True, right_index=True)\n",
    "train = train.rename(columns = {'0_x':\"kmeans\"})"
   ]
  },
  {
   "cell_type": "code",
   "execution_count": 27,
   "id": "7045f760",
   "metadata": {},
   "outputs": [
    {
     "data": {
      "image/png": "[encoded data removed]",
      "text/plain": [
       "<Figure size 1200x600 with 1 Axes>"
      ]
     },
     "metadata": {},
     "output_type": "display_data"
    }
   ],
   "source": [
    "fig = plt.figure(figsize=(12,6))\n",
    "\n",
    "plt.plot(train.Date, (train.Gradient), linewidth=0.5, color='black')\n",
    "plt.plot(train.Date[train.kmeans==0], (train.Gradient[train.kmeans==0]), \n",
    "         linestyle=\" \", marker=\"D\", markersize=3, color='coral', label=\"Cluster 0\")\n",
    "plt.plot(train.Date[train.kmeans==1], (train.Gradient[train.kmeans==1]), \n",
    "         linestyle=\" \", marker=\"o\", markersize=4,  color='slateblue', label=\"Cluster 1\")\n",
    "\n",
    "plt.xlabel('Time', fontsize = 14)\n",
    "plt.ylabel('Thermal gradient 1 m around Z', fontsize = 14)\n",
    "plt.xticks(())\n",
    "plt.yticks(np.arange(0,15,1))\n",
    "plt.hlines(y=0.3, xmin=17500, xmax=19000, colors='red', linestyles='-', lw=1, label=\"0.3 \\u2103 $\\mathregular{m^{-1}}$\")\n",
    "plt.legend()\n",
    "\n",
    "dark_gray = \"#000000\"\n",
    "light_gray = \"#eeeeee\"\n",
    "\n",
    "ax = fig.axes[0]\n",
    "ax.spines[\"top\"].set_visible(False)\n",
    "ax.spines[\"right\"].set_visible(False)\n",
    "ax.spines[\"left\"].set_color(dark_gray)\n",
    "ax.spines[\"bottom\"].set_color(dark_gray)\n",
    "\n",
    "ax.yaxis.grid(True, color=light_gray)\n",
    "ax.xaxis.grid(True, color=light_gray)\n",
    "\n",
    "import matplotlib.dates as mdates\n",
    "ax.xaxis.set_major_locator(mdates.MonthLocator(bymonth=(1, 7)))"
   ]
  },
  {
   "cell_type": "markdown",
   "id": "fb238c41",
   "metadata": {},
   "source": [
    "## Classification neural network"
   ]
  },
  {
   "cell_type": "code",
   "execution_count": 28,
   "id": "9fd32fb5",
   "metadata": {},
   "outputs": [],
   "source": [
    "X_train = train[[\n",
    "                 \"AirTempAvg\", \"Wind\", \"AirTempMin\", \"AirTempMax\", \"RadMax\", \"RadAvg\", \"Rain\", \"Level\", \"Flow\",\n",
    "                 \"AirTempAvg1\", \"Wind1\", \"AirTempMin1\", \"AirTempMax1\", \"RadMax1\", \"RadAvg1\", \"Rain1\", \"Level1\", \"Flow1\",\n",
    "                 \"AirTempAvg2\", \"Wind2\", \"AirTempMin2\", \"AirTempMax2\", \"RadMax2\", \"RadAvg2\", \"Rain2\", \"Level2\", \"Flow2\",\n",
    "                 \"AirTempAvg3\", \"Wind3\", \"AirTempMin3\", \"AirTempMax3\", \"RadMax3\", \"RadAvg3\", \"Rain3\", \"Level3\", \"Flow3\",\n",
    "                 \"AirTempAvg4\", \"Wind4\", \"AirTempMin4\", \"AirTempMax4\", \"RadMax4\", \"RadAvg4\", \"Rain4\", \"Level4\", \"Flow4\",\n",
    "                 \"AirTempAvg5\", \"Wind5\", \"AirTempMin5\", \"AirTempMax5\", \"RadMax5\", \"RadAvg5\", \"Rain5\", \"Level5\", \"Flow5\",\n",
    "                ]]\n",
    "y_train = train[\"Thermocline\"]\n",
    "X_test = test[[        \n",
    "                 \"AirTempAvg\", \"Wind\", \"AirTempMin\", \"AirTempMax\", \"RadMax\", \"RadAvg\", \"Rain\",  \"Level\", \"Flow\",\n",
    "                 \"AirTempAvg1\", \"Wind1\", \"AirTempMin1\", \"AirTempMax1\", \"RadMax1\", \"RadAvg1\", \"Rain1\", \"Level1\", \"Flow1\", \n",
    "                 \"AirTempAvg2\", \"Wind2\", \"AirTempMin2\", \"AirTempMax2\", \"RadMax2\", \"RadAvg2\", \"Rain2\", \"Level2\", \"Flow2\",\n",
    "                 \"AirTempAvg3\", \"Wind3\", \"AirTempMin3\", \"AirTempMax3\", \"RadMax3\", \"RadAvg3\", \"Rain3\", \"Level3\", \"Flow3\",\n",
    "                 \"AirTempAvg4\", \"Wind4\", \"AirTempMin4\", \"AirTempMax4\", \"RadMax4\", \"RadAvg4\", \"Rain4\", \"Level4\", \"Flow4\",\n",
    "                 \"AirTempAvg5\", \"Wind5\", \"AirTempMin5\", \"AirTempMax5\", \"RadMax5\", \"RadAvg5\", \"Rain5\", \"Level5\", \"Flow5\",\n",
    "              ]]\n",
    "y_test = test[\"Thermocline\"]"
   ]
  },
  {
   "cell_type": "code",
   "execution_count": null,
   "id": "439e04d9",
   "metadata": {},
   "outputs": [],
   "source": [
    "#Scaling\n",
    "scaler = StandardScaler()\n",
    "\n",
    "X_train[X_train.columns] = scaler.fit_transform(X_train)\n",
    "X_test[X_test.columns] = scaler.transform(X_test)"
   ]
  },
  {
   "cell_type": "code",
   "execution_count": null,
   "id": "d5464402",
   "metadata": {},
   "outputs": [],
   "source": [
    "#Define the architecture of the NN\n",
    "NN_class = Sequential([\n",
    "    Dense(32, input_shape=(len(X_train.columns),)),\n",
    "    Activation('relu'),\n",
    "     Dropout(0.2),\n",
    "    Dense(16),\n",
    "    Activation(\"relu\"),\n",
    "    Dropout(0.2),\n",
    "    Dense(1), \n",
    "    Activation('sigmoid'),\n",
    "])"
   ]
  },
  {
   "cell_type": "markdown",
   "id": "28545de0",
   "metadata": {},
   "source": [
    "### Cassification neural network with cross-validation"
   ]
  },
  {
   "cell_type": "code",
   "execution_count": null,
   "id": "58e078a3-9769-4daf-a036-7b4448519395",
   "metadata": {},
   "outputs": [],
   "source": [
    "#Compile the NN\n",
    "metric = tf.keras.metrics.BinaryAccuracy(\n",
    "    name=\"binary_accuracy\", dtype=None, threshold=0.5\n",
    ")\n",
    "\n",
    "opt = keras.optimizers.Adam(learning_rate=0.0001)\n",
    "\n",
    "NN_class.compile(loss = \"binary_crossentropy\",\n",
    "                optimizer = opt, \n",
    "                metrics=metric)"
   ]
  },
  {
   "cell_type": "code",
   "execution_count": null,
   "id": "290da104",
   "metadata": {},
   "outputs": [],
   "source": [
    "model = KerasClassifier(NN_class, batch_size=32, verbose=1, epochs=500)"
   ]
  },
  {
   "cell_type": "code",
   "execution_count": null,
   "id": "495932c9",
   "metadata": {},
   "outputs": [],
   "source": [
    "scoring = {'acc': 'accuracy',\n",
    "           'recall': 'recall',\n",
    "           'auc': 'roc_auc'}"
   ]
  },
  {
   "cell_type": "code",
   "execution_count": null,
   "id": "93475533",
   "metadata": {},
   "outputs": [],
   "source": [
    "kfold = KFold(n_splits=4, shuffle=False)\n",
    "results = cross_validate(model, X_train, y_train, cv=kfold, scoring=scoring)"
   ]
  },
  {
   "cell_type": "code",
   "execution_count": null,
   "id": "605fe779",
   "metadata": {},
   "outputs": [],
   "source": [
    "#Cross-validation results\n",
    "results"
   ]
  },
  {
   "cell_type": "code",
   "execution_count": null,
   "id": "4070f252",
   "metadata": {},
   "outputs": [],
   "source": [
    "#Averaged results\n",
    "print(\"Accuracy: \" + str(np.mean(results[\"test_acc\"])))\n",
    "print(\"Recall: \" + str(np.mean(results[\"test_recall\"])))\n",
    "print(\"AUC: \" + str(np.mean(results[\"test_auc\"])))"
   ]
  },
  {
   "cell_type": "markdown",
   "id": "ed2f89c8",
   "metadata": {},
   "source": [
    "### Cassification neural network without cross-validation"
   ]
  },
  {
   "cell_type": "code",
   "execution_count": null,
   "id": "b5699b65-5692-4a76-a30a-1ea62c6a48d4",
   "metadata": {},
   "outputs": [],
   "source": [
    "#Compile the NN\n",
    "metric = tf.keras.metrics.BinaryAccuracy(\n",
    "    name=\"binary_accuracy\", dtype=None, threshold=0.5\n",
    ")\n",
    "\n",
    "opt = keras.optimizers.Adam(learning_rate=0.0001)\n",
    "\n",
    "NN_class.compile(loss = \"binary_crossentropy\",\n",
    "                optimizer = opt, \n",
    "                metrics=metric)"
   ]
  },
  {
   "cell_type": "code",
   "execution_count": null,
   "id": "cc2c93e4",
   "metadata": {},
   "outputs": [],
   "source": [
    "#Train the NN with validation split\n",
    "log_class = NN_class.fit(X_train, y_train, epochs=500, batch_size=32, validation_split=0.25)"
   ]
  },
  {
   "cell_type": "code",
   "execution_count": null,
   "id": "cdb96b7b",
   "metadata": {},
   "outputs": [],
   "source": [
    "#Plot the train accuracy and validation accuracy\n",
    "plt.plot(log_class.history['binary_accuracy'])\n",
    "plt.plot(log_class.history['val_binary_accuracy'])\n",
    "plt.legend(['accuracy','validation accuracy'])"
   ]
  },
  {
   "cell_type": "code",
   "execution_count": null,
   "id": "150b807c",
   "metadata": {},
   "outputs": [],
   "source": [
    "NN_class.fit(X_train, y_train, epochs=200, batch_size=32)"
   ]
  },
  {
   "cell_type": "code",
   "execution_count": null,
   "id": "40187ab0",
   "metadata": {},
   "outputs": [],
   "source": [
    "scores = NN_class.evaluate(X_train, y_train)\n",
    "print(\"%s: %.2f%%\" % (NN_class.metrics_names[1], scores[1]*100))"
   ]
  },
  {
   "cell_type": "code",
   "execution_count": null,
   "id": "88ed68e0",
   "metadata": {},
   "outputs": [],
   "source": [
    "scores = NN_class.evaluate(X_test, y_test)\n",
    "print(\"%s: %.2f%%\" % (NN_class.metrics_names[1], scores[1]*100))"
   ]
  },
  {
   "cell_type": "code",
   "execution_count": null,
   "id": "93473067",
   "metadata": {},
   "outputs": [],
   "source": [
    "y_pred_train = NN_class.predict(X_train)\n",
    "y_pred = NN_class.predict(X_test)"
   ]
  },
  {
   "cell_type": "code",
   "execution_count": null,
   "id": "616a3d27",
   "metadata": {},
   "outputs": [],
   "source": [
    "from sklearn.metrics import confusion_matrix, ConfusionMatrixDisplay\n",
    "\n",
    "fig, ax = plt.subplots(figsize=(8,6))\n",
    "cm_train = confusion_matrix(y_train, y_pred_train.round())  #target and predictions\n",
    "display = ConfusionMatrixDisplay(cm_train)\n",
    "ax.set(title='Train Confusion Matrix')\n",
    "display.plot(ax=ax)\n",
    "\n",
    "fig, ax = plt.subplots(figsize=(8,6))\n",
    "cm_test = confusion_matrix(y_test, y_pred.round())\n",
    "display = ConfusionMatrixDisplay(cm_test)\n",
    "ax.set(title='Test Confusion Matrix')\n",
    "display.plot(ax=ax)"
   ]
  },
  {
   "cell_type": "code",
   "execution_count": null,
   "id": "6236b5fd",
   "metadata": {},
   "outputs": [],
   "source": [
    "from sklearn.metrics import RocCurveDisplay\n",
    "\n",
    "RocCurveDisplay.from_predictions(y_train, y_pred_train)\n",
    "RocCurveDisplay.from_predictions(y_test, y_pred)"
   ]
  },
  {
   "cell_type": "code",
   "execution_count": null,
   "id": "dce5bb0d",
   "metadata": {},
   "outputs": [],
   "source": [
    "from sklearn.metrics import recall_score\n",
    "\n",
    "recall_train = recall_score(y_train, y_pred_train.round())\n",
    "recall_test = recall_score(y_test, y_pred.round())\n",
    "\n",
    "print(recall_train)\n",
    "print(recall_test)"
   ]
  },
  {
   "cell_type": "code",
   "execution_count": null,
   "id": "99214dc5",
   "metadata": {},
   "outputs": [],
   "source": [
    "y_pred_train = pd.Series(np.array(y_pred_train.round(0).reshape(-1-1)))\n",
    "y_pred_train.index = y_train.index"
   ]
  },
  {
   "cell_type": "code",
   "execution_count": null,
   "id": "68de9ddc",
   "metadata": {},
   "outputs": [],
   "source": [
    "y_pred = pd.Series(np.array(y_pred.round(0).reshape(-1-1)))\n",
    "y_pred.index = y_test.index"
   ]
  },
  {
   "cell_type": "code",
   "execution_count": null,
   "id": "1b2eb426",
   "metadata": {},
   "outputs": [],
   "source": [
    "yy_train = pd.concat((data[\"Date\"], y_train), axis=1).set_index(\"Date\", drop=True)\n",
    "yy_pred_train = pd.concat((data[\"Date\"], y_pred_train), axis=1).set_index(\"Date\", drop=True)\n",
    "yy_test = pd.concat((data[\"Date\"], y_test), axis=1).set_index(\"Date\", drop=True)\n",
    "yy_pred = pd.concat((data[\"Date\"], y_pred), axis=1).set_index(\"Date\", drop=True)"
   ]
  },
  {
   "cell_type": "code",
   "execution_count": null,
   "id": "b72875d1",
   "metadata": {},
   "outputs": [],
   "source": [
    "fig = plt.figure(figsize=(12,3))\n",
    "\n",
    "plt.plot(yy_train+0.05, linewidth=0.0, marker = \"o\", markersize = 7, color=\"darkslateblue\")\n",
    "plt.plot(yy_test+0.05, linewidth=0.0, marker = \"o\", markersize = 7,label=\"Real data\", color=\"darkslateblue\")\n",
    "plt.plot(yy_pred_train-0.05, linewidth=0.0, marker = \"o\", markersize = 7,  color=\"lightsalmon\")\n",
    "plt.plot(yy_pred-0.05, linewidth=0.0, marker = \"o\", markersize = 7, label=\"Predicted data\", color=\"lightsalmon\")\n",
    "\n",
    "plt.axvline(x = 18994, color = 'black', ls='--', lw=1)\n",
    "\n",
    "plt.xlabel(\"Date\", fontsize = 14)\n",
    "plt.ylabel(\"Thermocline presence\", fontsize = 14)\n",
    "plt.legend(loc=\"center left\", facecolor=\"white\")\n",
    "\n",
    "dark_gray = \"#000000\"\n",
    "light_gray = \"#eeeeee\"\n",
    "\n",
    "ax = fig.axes[0]\n",
    "ax.spines[\"top\"].set_visible(False)\n",
    "ax.spines[\"right\"].set_visible(False)\n",
    "ax.spines[\"left\"].set_color(dark_gray)\n",
    "ax.spines[\"bottom\"].set_color(dark_gray)\n",
    "\n",
    "ax.set_facecolor('xkcd:white')\n",
    "\n",
    "ax.get_yaxis().tick_left()\n",
    "ax.get_xaxis().tick_bottom()\n",
    "\n",
    "ax.tick_params(axis=\"both\", which=\"major\", labelsize=10, colors=dark_gray)\n",
    "ax.tick_params(axis=\"both\", which=\"minor\", labelsize=8, colors=dark_gray)\n",
    "ax.xaxis.label.set_color(dark_gray)\n",
    "ax.yaxis.label.set_color(dark_gray)\n",
    "\n",
    "ax.set_yticks((0,1))\n",
    "\n",
    "ax.yaxis.grid(True, color=light_gray, lw=20)\n",
    "ax.xaxis.grid(True, color=light_gray)\n",
    "\n",
    "ax.xaxis.set_major_locator(mdates.MonthLocator(bymonth=(1, 7)))"
   ]
  },
  {
   "cell_type": "markdown",
   "id": "a61fe3b7",
   "metadata": {},
   "source": [
    "## Regression neural network"
   ]
  },
  {
   "cell_type": "code",
   "execution_count": 29,
   "id": "20b30d20",
   "metadata": {},
   "outputs": [],
   "source": [
    "train = data[data[\"Date\"] <= \"2021-12-31\"].dropna()\n",
    "test = data[data[\"Date\"] >= \"2022-01-01\"].dropna()"
   ]
  },
  {
   "cell_type": "code",
   "execution_count": 30,
   "id": "efebd3f0",
   "metadata": {},
   "outputs": [],
   "source": [
    "X_train = train[[\n",
    "                \"AirTempAvg\", \"Wind\", \"AirTempMin\", \"AirTempMax\", \"RadMax\", \"RadAvg\", \"Rain\", \"Level\", \"Flow\",\n",
    "                \"AirTempAvg1\", \"Wind1\", \"AirTempMin1\", \"AirTempMax1\", \"RadMax1\", \"RadAvg1\", \"Rain1\", \"Level1\", \"Flow1\",\n",
    "                \"AirTempAvg2\", \"Wind2\", \"AirTempMin2\", \"AirTempMax2\", \"RadMax2\", \"RadAvg2\", \"Rain2\", \"Level2\", \"Flow2\",\n",
    "                \"AirTempAvg3\", \"Wind3\", \"AirTempMin3\", \"AirTempMax3\", \"RadMax3\", \"RadAvg3\", \"Rain3\", \"Level3\", \"Flow3\",\n",
    "                \"AirTempAvg4\", \"Wind4\", \"AirTempMin4\", \"AirTempMax4\", \"RadMax4\", \"RadAvg4\", \"Rain4\", \"Level4\", \"Flow4\",\n",
    "                \"AirTempAvg5\", \"Wind5\", \"AirTempMin5\", \"AirTempMax5\", \"RadMax5\", \"RadAvg5\", \"Rain5\", \"Level5\", \"Flow5\",\n",
    "                ]]\n",
    "y_train = train[\"Thermocline_depth\"]\n",
    "X_test = test[[             \n",
    "                \"AirTempAvg\", \"Wind\", \"AirTempMin\", \"AirTempMax\", \"RadMax\", \"RadAvg\", \"Rain\",  \"Level\", \"Flow\",\n",
    "                \"AirTempAvg1\", \"Wind1\", \"AirTempMin1\", \"AirTempMax1\", \"RadMax1\", \"RadAvg1\", \"Rain1\", \"Level1\", \"Flow1\", \n",
    "                \"AirTempAvg2\", \"Wind2\", \"AirTempMin2\", \"AirTempMax2\", \"RadMax2\", \"RadAvg2\", \"Rain2\", \"Level2\", \"Flow2\",\n",
    "                \"AirTempAvg3\", \"Wind3\", \"AirTempMin3\", \"AirTempMax3\", \"RadMax3\", \"RadAvg3\", \"Rain3\", \"Level3\", \"Flow3\",\n",
    "                \"AirTempAvg4\", \"Wind4\", \"AirTempMin4\", \"AirTempMax4\", \"RadMax4\", \"RadAvg4\", \"Rain4\", \"Level4\", \"Flow4\",\n",
    "                \"AirTempAvg5\", \"Wind5\", \"AirTempMin5\", \"AirTempMax5\", \"RadMax5\", \"RadAvg5\", \"Rain5\", \"Level5\", \"Flow5\",\n",
    "              ]]\n",
    "y_test = test[\"Thermocline_depth\"]"
   ]
  },
  {
   "cell_type": "code",
   "execution_count": 31,
   "id": "ef5a3f97",
   "metadata": {},
   "outputs": [
    {
     "name": "stderr",
     "output_type": "stream",
     "text": [
      "\n",
      "A value is trying to be set on a copy of a slice from a DataFrame.\n",
      "Try using .loc[row_indexer,col_indexer] = value instead\n",
      "\n",
      "See the caveats in the documentation: https://pandas.pydata.org/pandas-docs/stable/user_guide/indexing.html#returning-a-view-versus-a-copy\n",
      "\n",
      "A value is trying to be set on a copy of a slice from a DataFrame.\n",
      "Try using .loc[row_indexer,col_indexer] = value instead\n",
      "\n",
      "See the caveats in the documentation: https://pandas.pydata.org/pandas-docs/stable/user_guide/indexing.html#returning-a-view-versus-a-copy\n"
     ]
    }
   ],
   "source": [
    "# Scaling\n",
    "scaler = StandardScaler()\n",
    "\n",
    "X_train[X_train.columns] = scaler.fit_transform(X_train)\n",
    "X_test[X_test.columns] = scaler.transform(X_test)"
   ]
  },
  {
   "cell_type": "code",
   "execution_count": 32,
   "id": "1aa0fec3",
   "metadata": {},
   "outputs": [
    {
     "name": "stdout",
     "output_type": "stream",
     "text": [
      "WARNING:tensorflow:From D:\\Anaconda\\Lib\\site-packages\\keras\\src\\backend.py:873: The name tf.get_default_graph is deprecated. Please use tf.compat.v1.get_default_graph instead.\n",
      "\n"
     ]
    }
   ],
   "source": [
    "#Define the architecture of the NN\n",
    "NN_regr = Sequential([\n",
    "    Dense(32, input_shape=(len(X_train.columns),)),\n",
    "    Activation('relu'),\n",
    "    Dropout(0.4),\n",
    "    Dense(16),\n",
    "    Activation('relu'),\n",
    "    Dropout(0.2),\n",
    "    Dense(8),\n",
    "    Activation('relu'),\n",
    "    Dense(1), \n",
    "])"
   ]
  },
  {
   "cell_type": "markdown",
   "id": "db7f9519",
   "metadata": {},
   "source": [
    "### Regression neural network with cross-validation"
   ]
  },
  {
   "cell_type": "code",
   "execution_count": 33,
   "id": "e44d315b-a7ee-4717-98d8-fe5eb5598892",
   "metadata": {},
   "outputs": [],
   "source": [
    "#Compile\n",
    "opt = keras.optimizers.Adam(learning_rate=0.001)\n",
    "\n",
    "NN_regr.compile(loss= \"mae\",\n",
    "                optimizer=opt, \n",
    "                metrics= \"mae\")"
   ]
  },
  {
   "cell_type": "code",
   "execution_count": 34,
   "id": "9eb0a15e",
   "metadata": {},
   "outputs": [],
   "source": [
    "model = KerasRegressor(NN_regr, batch_size=32, verbose=1, epochs=500)"
   ]
  },
  {
   "cell_type": "code",
   "execution_count": null,
   "id": "0c75116d",
   "metadata": {},
   "outputs": [
    {
     "name": "stdout",
     "output_type": "stream",
     "text": [
      "INFO:tensorflow:Assets written to: C:\\Users\\Maria\\AppData\\Local\\Temp\\tmp_y5xklv8\\assets\n"
     ]
    },
    {
     "name": "stderr",
     "output_type": "stream",
     "text": [
      "INFO:tensorflow:Assets written to: C:\\Users\\Maria\\AppData\\Local\\Temp\\tmp_y5xklv8\\assets\n"
     ]
    },
    {
     "name": "stdout",
     "output_type": "stream",
     "text": [
      "WARNING:tensorflow:From D:\\Anaconda\\Lib\\site-packages\\keras\\src\\saving\\legacy\\saved_model\\load.py:107: The name tf.gfile.Exists is deprecated. Please use tf.io.gfile.exists instead.\n",
      "\n"
     ]
    },
    {
     "name": "stderr",
     "output_type": "stream",
     "text": [
      "WARNING:tensorflow:From D:\\Anaconda\\Lib\\site-packages\\keras\\src\\saving\\legacy\\saved_model\\load.py:107: The name tf.gfile.Exists is deprecated. Please use tf.io.gfile.exists instead.\n",
      "\n"
     ]
    },
    {
     "name": "stdout",
     "output_type": "stream",
     "text": [
      "WARNING:tensorflow:From D:\\Anaconda\\Lib\\site-packages\\keras\\src\\saving\\legacy\\save.py:538: The name tf.train.NewCheckpointReader is deprecated. Please use tf.compat.v1.train.NewCheckpointReader instead.\n",
      "\n"
     ]
    },
    {
     "name": "stderr",
     "output_type": "stream",
     "text": [
      "WARNING:tensorflow:From D:\\Anaconda\\Lib\\site-packages\\keras\\src\\saving\\legacy\\save.py:538: The name tf.train.NewCheckpointReader is deprecated. Please use tf.compat.v1.train.NewCheckpointReader instead.\n",
      "\n"
     ]
    },
    {
     "name": "stdout",
     "output_type": "stream",
     "text": [
      "Epoch 1/500\n",
      "WARNING:tensorflow:From D:\\Anaconda\\Lib\\site-packages\\keras\\src\\utils\\tf_utils.py:492: The name tf.ragged.RaggedTensorValue is deprecated. Please use tf.compat.v1.ragged.RaggedTensorValue instead.\n",
      "\n"
     ]
    },
    {
     "name": "stderr",
     "output_type": "stream",
     "text": [
      "WARNING:tensorflow:From D:\\Anaconda\\Lib\\site-packages\\keras\\src\\utils\\tf_utils.py:492: The name tf.ragged.RaggedTensorValue is deprecated. Please use tf.compat.v1.ragged.RaggedTensorValue instead.\n",
      "\n"
     ]
    },
    {
     "name": "stdout",
     "output_type": "stream",
     "text": [
      "18/18 [==============================] - 1s 2ms/step - loss: 12.2366 - mae: 12.2366\n",
      "Epoch 2/500\n",
      "18/18 [==============================] - 0s 924us/step - loss: 10.9267 - mae: 10.9267\n",
      "Epoch 3/500\n",
      "18/18 [==============================] - 0s 2ms/step - loss: 8.7743 - mae: 8.7743\n",
      "Epoch 4/500\n",
      "18/18 [==============================] - 0s 919us/step - loss: 7.3026 - mae: 7.3026\n",
      "Epoch 5/500\n",
      "18/18 [==============================] - 0s 918us/step - loss: 5.8122 - mae: 5.8122\n",
      "Epoch 6/500\n",
      "18/18 [==============================] - 0s 919us/step - loss: 5.4861 - mae: 5.4861\n",
      "Epoch 7/500\n",
      "18/18 [==============================] - 0s 919us/step - loss: 5.0256 - mae: 5.0256\n",
      "Epoch 8/500\n",
      "18/18 [==============================] - 0s 924us/step - loss: 4.5066 - mae: 4.5066\n",
      "Epoch 9/500\n",
      "18/18 [==============================] - 0s 914us/step - loss: 4.3497 - mae: 4.3497\n",
      "Epoch 10/500\n",
      "18/18 [==============================] - 0s 383us/step - loss: 4.1346 - mae: 4.1346\n",
      "Epoch 11/500\n",
      "18/18 [==============================] - 0s 919us/step - loss: 4.0238 - mae: 4.0238\n",
      "Epoch 12/500\n",
      "18/18 [==============================] - 0s 920us/step - loss: 4.0471 - mae: 4.0471\n",
      "Epoch 13/500\n",
      "18/18 [==============================] - 0s 920us/step - loss: 4.0894 - mae: 4.0894\n",
      "Epoch 14/500\n",
      "18/18 [==============================] - 0s 1ms/step - loss: 4.0528 - mae: 4.0528\n",
      "Epoch 15/500\n",
      "18/18 [==============================] - 0s 919us/step - loss: 3.8822 - mae: 3.8822\n",
      "Epoch 16/500\n",
      "18/18 [==============================] - 0s 914us/step - loss: 3.8444 - mae: 3.8444\n",
      "Epoch 17/500\n",
      "18/18 [==============================] - 0s 919us/step - loss: 3.7914 - mae: 3.7914\n",
      "Epoch 18/500\n",
      "18/18 [==============================] - 0s 1ms/step - loss: 3.7769 - mae: 3.7769\n",
      "Epoch 19/500\n",
      "18/18 [==============================] - 0s 920us/step - loss: 3.6391 - mae: 3.6391\n",
      "Epoch 20/500\n",
      "18/18 [==============================] - 0s 2ms/step - loss: 3.5793 - mae: 3.5793\n",
      "Epoch 21/500\n",
      "18/18 [==============================] - 0s 923us/step - loss: 3.4524 - mae: 3.4524\n",
      "Epoch 22/500\n",
      "18/18 [==============================] - 0s 915us/step - loss: 3.2932 - mae: 3.2932\n",
      "Epoch 23/500\n",
      "18/18 [==============================] - 0s 1ms/step - loss: 3.4203 - mae: 3.4203\n",
      "Epoch 24/500\n",
      "18/18 [==============================] - 0s 919us/step - loss: 3.5316 - mae: 3.5316\n",
      "Epoch 25/500\n",
      "18/18 [==============================] - 0s 2ms/step - loss: 3.3613 - mae: 3.3613\n",
      "Epoch 26/500\n",
      "18/18 [==============================] - 0s 919us/step - loss: 3.4803 - mae: 3.4803\n",
      "Epoch 27/500\n",
      "18/18 [==============================] - 0s 1ms/step - loss: 3.2393 - mae: 3.2393\n",
      "Epoch 28/500\n",
      "18/18 [==============================] - 0s 924us/step - loss: 3.1590 - mae: 3.1590\n",
      "Epoch 29/500\n",
      "18/18 [==============================] - 0s 914us/step - loss: 3.1060 - mae: 3.1060\n",
      "Epoch 30/500\n",
      "18/18 [==============================] - 0s 914us/step - loss: 3.2784 - mae: 3.2784\n",
      "Epoch 31/500\n",
      "18/18 [==============================] - 0s 1ms/step - loss: 3.2354 - mae: 3.2354\n",
      "Epoch 32/500\n",
      "18/18 [==============================] - 0s 2ms/step - loss: 3.0858 - mae: 3.0858\n",
      "Epoch 33/500\n",
      "18/18 [==============================] - 0s 919us/step - loss: 3.0932 - mae: 3.0932\n",
      "Epoch 34/500\n",
      "18/18 [==============================] - 0s 924us/step - loss: 3.2740 - mae: 3.2740\n",
      "Epoch 35/500\n",
      "18/18 [==============================] - 0s 1ms/step - loss: 3.1150 - mae: 3.1150\n",
      "Epoch 36/500\n",
      "18/18 [==============================] - 0s 924us/step - loss: 3.1190 - mae: 3.1190\n",
      "Epoch 37/500\n",
      "18/18 [==============================] - 0s 919us/step - loss: 3.1106 - mae: 3.1106\n",
      "Epoch 38/500\n",
      "18/18 [==============================] - 0s 919us/step - loss: 3.1791 - mae: 3.1791\n",
      "Epoch 39/500\n",
      "18/18 [==============================] - 0s 919us/step - loss: 3.0911 - mae: 3.0911\n",
      "Epoch 40/500\n",
      "18/18 [==============================] - 0s 919us/step - loss: 3.1666 - mae: 3.1666\n",
      "Epoch 41/500\n",
      "18/18 [==============================] - 0s 919us/step - loss: 3.0318 - mae: 3.0318\n",
      "Epoch 42/500\n",
      "18/18 [==============================] - 0s 2ms/step - loss: 3.0377 - mae: 3.0377\n",
      "Epoch 43/500\n",
      "18/18 [==============================] - 0s 918us/step - loss: 3.1018 - mae: 3.1018\n",
      "Epoch 44/500\n",
      "18/18 [==============================] - 0s 1ms/step - loss: 3.0234 - mae: 3.0234\n",
      "Epoch 45/500\n",
      "18/18 [==============================] - 0s 2ms/step - loss: 2.9908 - mae: 2.9908\n",
      "Epoch 46/500\n",
      "18/18 [==============================] - 0s 915us/step - loss: 3.0344 - mae: 3.0344\n",
      "Epoch 47/500\n",
      "18/18 [==============================] - 0s 919us/step - loss: 2.9510 - mae: 2.9510\n",
      "Epoch 48/500\n",
      "18/18 [==============================] - 0s 919us/step - loss: 2.9662 - mae: 2.9662\n",
      "Epoch 49/500\n",
      "18/18 [==============================] - 0s 924us/step - loss: 2.7938 - mae: 2.7938\n",
      "Epoch 50/500\n",
      "18/18 [==============================] - 0s 915us/step - loss: 2.9047 - mae: 2.9047\n",
      "Epoch 51/500\n",
      "18/18 [==============================] - 0s 2ms/step - loss: 2.8417 - mae: 2.8417\n",
      "Epoch 52/500\n",
      "18/18 [==============================] - 0s 918us/step - loss: 2.8984 - mae: 2.8984\n",
      "Epoch 53/500\n",
      "18/18 [==============================] - 0s 1ms/step - loss: 2.8803 - mae: 2.8803\n",
      "Epoch 54/500\n",
      "18/18 [==============================] - 0s 919us/step - loss: 2.8699 - mae: 2.8699\n",
      "Epoch 55/500\n",
      "18/18 [==============================] - 0s 923us/step - loss: 2.9328 - mae: 2.9328\n",
      "Epoch 56/500\n",
      "18/18 [==============================] - 0s 915us/step - loss: 2.8145 - mae: 2.8145\n",
      "Epoch 57/500\n",
      "18/18 [==============================] - 0s 919us/step - loss: 2.8789 - mae: 2.8789\n",
      "Epoch 58/500\n",
      "18/18 [==============================] - 0s 919us/step - loss: 2.9006 - mae: 2.9006\n",
      "Epoch 59/500\n",
      "18/18 [==============================] - 0s 2ms/step - loss: 2.8217 - mae: 2.8217\n",
      "Epoch 60/500\n",
      "18/18 [==============================] - 0s 914us/step - loss: 2.7754 - mae: 2.7754\n",
      "Epoch 61/500\n",
      "18/18 [==============================] - 0s 2ms/step - loss: 2.6802 - mae: 2.6802\n",
      "Epoch 62/500\n",
      "18/18 [==============================] - 0s 1ms/step - loss: 2.6515 - mae: 2.6515\n",
      "Epoch 63/500\n",
      "18/18 [==============================] - 0s 919us/step - loss: 2.7147 - mae: 2.7147\n",
      "Epoch 64/500\n",
      "18/18 [==============================] - 0s 2ms/step - loss: 2.9229 - mae: 2.9229\n",
      "Epoch 65/500\n",
      "18/18 [==============================] - 0s 914us/step - loss: 2.5062 - mae: 2.5062\n",
      "Epoch 66/500\n",
      "18/18 [==============================] - 0s 1ms/step - loss: 2.6208 - mae: 2.6208\n",
      "Epoch 67/500\n",
      "18/18 [==============================] - 0s 919us/step - loss: 2.8075 - mae: 2.8075\n",
      "Epoch 68/500\n",
      "18/18 [==============================] - 0s 919us/step - loss: 2.6961 - mae: 2.6961\n",
      "Epoch 69/500\n",
      "18/18 [==============================] - 0s 916us/step - loss: 2.7387 - mae: 2.7387\n",
      "Epoch 70/500\n",
      "18/18 [==============================] - 0s 922us/step - loss: 2.6345 - mae: 2.6345\n",
      "Epoch 71/500\n",
      "18/18 [==============================] - 0s 924us/step - loss: 2.5890 - mae: 2.5890\n",
      "Epoch 72/500\n",
      "18/18 [==============================] - 0s 914us/step - loss: 2.7086 - mae: 2.7086\n",
      "Epoch 73/500\n",
      "18/18 [==============================] - 0s 1ms/step - loss: 2.6278 - mae: 2.6278\n",
      "Epoch 74/500\n",
      "18/18 [==============================] - 0s 2ms/step - loss: 2.6717 - mae: 2.6717\n",
      "Epoch 75/500\n",
      "18/18 [==============================] - 0s 1ms/step - loss: 2.6382 - mae: 2.6382\n",
      "Epoch 76/500\n",
      "18/18 [==============================] - 0s 920us/step - loss: 2.7188 - mae: 2.7188\n",
      "Epoch 77/500\n",
      "18/18 [==============================] - 0s 2ms/step - loss: 2.7113 - mae: 2.7113\n",
      "Epoch 78/500\n",
      "18/18 [==============================] - 0s 920us/step - loss: 2.6305 - mae: 2.6305\n",
      "Epoch 79/500\n",
      "18/18 [==============================] - 0s 918us/step - loss: 2.4493 - mae: 2.4493\n",
      "Epoch 80/500\n",
      "18/18 [==============================] - 0s 1ms/step - loss: 2.6997 - mae: 2.6997\n",
      "Epoch 81/500\n",
      "18/18 [==============================] - 0s 2ms/step - loss: 2.4909 - mae: 2.4909\n",
      "Epoch 82/500\n",
      "18/18 [==============================] - 0s 920us/step - loss: 2.6096 - mae: 2.6096\n",
      "Epoch 83/500\n",
      "18/18 [==============================] - 0s 919us/step - loss: 2.5187 - mae: 2.5187\n",
      "Epoch 84/500\n",
      "18/18 [==============================] - 0s 2ms/step - loss: 2.5842 - mae: 2.5842\n",
      "Epoch 85/500\n",
      "18/18 [==============================] - 0s 920us/step - loss: 2.6556 - mae: 2.6556\n",
      "Epoch 86/500\n",
      "18/18 [==============================] - 0s 919us/step - loss: 2.6083 - mae: 2.6083\n",
      "Epoch 87/500\n",
      "18/18 [==============================] - 0s 2ms/step - loss: 2.5982 - mae: 2.5982\n",
      "Epoch 88/500\n",
      "18/18 [==============================] - 0s 919us/step - loss: 2.5294 - mae: 2.5294\n",
      "Epoch 89/500\n",
      "18/18 [==============================] - 0s 1ms/step - loss: 2.6423 - mae: 2.6423\n",
      "Epoch 90/500\n",
      "18/18 [==============================] - 0s 919us/step - loss: 2.5541 - mae: 2.5541\n",
      "Epoch 91/500\n",
      "18/18 [==============================] - 0s 2ms/step - loss: 2.5673 - mae: 2.5673\n",
      "Epoch 92/500\n",
      "18/18 [==============================] - 0s 919us/step - loss: 2.5801 - mae: 2.5801\n",
      "Epoch 93/500\n",
      "18/18 [==============================] - 0s 919us/step - loss: 2.6233 - mae: 2.6233\n",
      "Epoch 94/500\n",
      "18/18 [==============================] - 0s 383us/step - loss: 2.5153 - mae: 2.5153\n",
      "Epoch 95/500\n",
      "18/18 [==============================] - 0s 919us/step - loss: 2.6186 - mae: 2.6186\n",
      "Epoch 96/500\n",
      "18/18 [==============================] - 0s 919us/step - loss: 2.4843 - mae: 2.4843\n",
      "Epoch 97/500\n",
      "18/18 [==============================] - 0s 2ms/step - loss: 2.5354 - mae: 2.5354\n",
      "Epoch 98/500\n",
      "18/18 [==============================] - 0s 1ms/step - loss: 2.4669 - mae: 2.4669\n",
      "Epoch 99/500\n",
      "18/18 [==============================] - 0s 920us/step - loss: 2.5190 - mae: 2.5190\n",
      "Epoch 100/500\n",
      "18/18 [==============================] - 0s 2ms/step - loss: 2.5485 - mae: 2.5485\n",
      "Epoch 101/500\n",
      "18/18 [==============================] - 0s 919us/step - loss: 2.6063 - mae: 2.6063\n",
      "Epoch 102/500\n",
      "18/18 [==============================] - 0s 919us/step - loss: 2.4946 - mae: 2.4946\n",
      "Epoch 103/500\n",
      "18/18 [==============================] - 0s 1ms/step - loss: 2.5938 - mae: 2.5938\n",
      "Epoch 104/500\n",
      "18/18 [==============================] - 0s 2ms/step - loss: 2.5926 - mae: 2.5926\n",
      "Epoch 105/500\n",
      " 1/18 [>.............................] - ETA: 0s - loss: 2.2674 - mae: 2.2674"
     ]
    }
   ],
   "source": [
    "kfold = KFold(n_splits=4, shuffle=False)\n",
    "results = cross_val_score(model, X_train, y_train, cv=kfold, scoring='neg_mean_absolute_error')"
   ]
  },
  {
   "cell_type": "code",
   "execution_count": null,
   "id": "2e85be23",
   "metadata": {},
   "outputs": [],
   "source": [
    "#Cross-validation results\n",
    "results"
   ]
  },
  {
   "cell_type": "code",
   "execution_count": null,
   "id": "19590c43",
   "metadata": {},
   "outputs": [],
   "source": [
    "#Averaged results\n",
    "np.mean(abs(results))"
   ]
  },
  {
   "cell_type": "markdown",
   "id": "55e96300",
   "metadata": {},
   "source": [
    "### Regression neural network without cross-validation"
   ]
  },
  {
   "cell_type": "code",
   "execution_count": null,
   "id": "970cb1de-c48f-4b61-bb2d-5258e57cd68a",
   "metadata": {},
   "outputs": [],
   "source": [
    "#Compile\n",
    "opt = keras.optimizers.Adam(learning_rate=0.001)\n",
    "\n",
    "NN_regr.compile(loss= \"mae\",\n",
    "                optimizer=opt, \n",
    "                metrics= \"mae\")"
   ]
  },
  {
   "cell_type": "code",
   "execution_count": null,
   "id": "c7ebc0c8",
   "metadata": {},
   "outputs": [],
   "source": [
    "#Train the NN with validation split\n",
    "log_rgr = NN_regr.fit(X_train, y_train, epochs=500, batch_size=32, validation_split=0.25)"
   ]
  },
  {
   "cell_type": "code",
   "execution_count": null,
   "id": "e8b0b7ab",
   "metadata": {},
   "outputs": [],
   "source": [
    "#Plot the train accuracy and validation accuracy\n",
    "plt.plot(log_rgr.history['mae'])\n",
    "plt.plot(log_rgr.history['val_mae'])\n",
    "plt.legend(['mae','validation mae'])"
   ]
  },
  {
   "cell_type": "code",
   "execution_count": null,
   "id": "fda11282",
   "metadata": {},
   "outputs": [],
   "source": [
    "NN_regr.fit(X_train, y_train, epochs=500, batch_size=32)"
   ]
  },
  {
   "cell_type": "code",
   "execution_count": null,
   "id": "d6471a3b",
   "metadata": {},
   "outputs": [],
   "source": [
    "scores = NN_regr.evaluate(X_train, y_train)\n",
    "print(\"%s: %.2f\" % (NN_regr.metrics_names[1], scores[1]))"
   ]
  },
  {
   "cell_type": "code",
   "execution_count": null,
   "id": "8a80f253",
   "metadata": {},
   "outputs": [],
   "source": [
    "scores = NN_regr.evaluate(X_test, y_test)\n",
    "print(\"%s: %.2f\" % (NN_regr.metrics_names[1], scores[1]))"
   ]
  },
  {
   "cell_type": "code",
   "execution_count": null,
   "id": "72dff87f",
   "metadata": {},
   "outputs": [],
   "source": [
    "y_pred_train = NN_regr.predict(X_train)\n",
    "y_pred = NN_regr.predict(X_test)"
   ]
  },
  {
   "cell_type": "code",
   "execution_count": null,
   "id": "c1f43660",
   "metadata": {},
   "outputs": [],
   "source": [
    "y_pred = pd.Series(np.array(y_pred.reshape(-1-1)))\n",
    "y_pred.index = y_test.index"
   ]
  },
  {
   "cell_type": "code",
   "execution_count": null,
   "id": "80f833f6",
   "metadata": {},
   "outputs": [],
   "source": [
    "y_pred_train = pd.Series(np.array(y_pred_train.reshape(-1-1)))\n",
    "y_pred_train.index = y_train.index"
   ]
  },
  {
   "cell_type": "code",
   "execution_count": null,
   "id": "f46bc785",
   "metadata": {},
   "outputs": [],
   "source": [
    "MAE_train = np.mean(np.abs((y_train-y_pred_train)))\n",
    "MAE_test = np.mean(np.abs((y_test-y_pred)))\n",
    "P50_train = np.quantile(np.abs(y_train-y_pred_train), 0.50)\n",
    "P50_test = np.quantile(np.abs(y_test-y_pred), 0.50)\n",
    "print(\"P50_train: \" + str(P50_train))\n",
    "print(\"P50_test: \" + str(P50_test))\n",
    "print(\"MAE_train percentile: \" + str((np.sum(np.abs(y_train-y_pred_train) < MAE_train) / len(y_train-y_pred_train) * 100).round(2)))\n",
    "print(\"MAE_test percentile: \" + str((np.sum(np.abs(y_test-y_pred) < MAE_test) / len(y_test-y_pred) * 100).round(2)))"
   ]
  },
  {
   "cell_type": "code",
   "execution_count": null,
   "id": "3b746f57",
   "metadata": {},
   "outputs": [],
   "source": [
    "print(\"MAE_test percentile: \" + str((np.sum(np.abs(y_test-y_pred) < MAE_test) / len(y_test-y_pred) * 100).round(2)))"
   ]
  },
  {
   "cell_type": "code",
   "execution_count": null,
   "id": "2efcfe70",
   "metadata": {},
   "outputs": [],
   "source": [
    "dates_train = data[\"Date\"].iloc[y_train.index]\n",
    "dates_test = data[\"Date\"].iloc[y_test.index]"
   ]
  },
  {
   "cell_type": "code",
   "execution_count": null,
   "id": "85a5f2a9",
   "metadata": {},
   "outputs": [],
   "source": [
    "y_pred_high_error = y_pred[abs(y_pred-y_test) > scores[1]]\n",
    "y_pred_low_error = y_pred[abs(y_pred-y_test) <= scores[1]]"
   ]
  },
  {
   "cell_type": "code",
   "execution_count": null,
   "id": "4b613dfb",
   "metadata": {},
   "outputs": [],
   "source": [
    "yy_train = pd.concat((data[\"Date\"], y_train), axis=1).set_index(\"Date\", drop=True)\n",
    "yy_pred_train = pd.concat((data[\"Date\"], y_pred_train), axis=1).set_index(\"Date\", drop=True)\n",
    "yy_test = pd.concat((data[\"Date\"], y_test), axis=1).set_index(\"Date\", drop=True)\n",
    "yy_pred_high_error = pd.concat((data[\"Date\"], y_pred_high_error), axis=1).set_index(\"Date\", drop=True)\n",
    "yy_pred_low_error = pd.concat((data[\"Date\"], y_pred_low_error), axis=1).set_index(\"Date\", drop=True)"
   ]
  },
  {
   "cell_type": "code",
   "execution_count": null,
   "id": "ee53fa60",
   "metadata": {},
   "outputs": [],
   "source": [
    "fig = plt.figure(figsize=(12,6))\n",
    "\n",
    "plt.plot(data[\"Thermocline_depth\"], linewidth=0, marker = \"o\", markersize = 5, label=\"Real data\", color=\"darkslateblue\")\n",
    "plt.plot(y_pred_train, linewidth=0, marker = \"^\", markersize = 6, label=\"Predicted data (train)\", color=\"#f57d6b\", markeredgecolor=\"darksalmon\")\n",
    "plt.plot(y_pred_high_error, linewidth=0, marker = \"^\", markersize = 6, label=\"Predicted data (test-high)\", color=\"#ffb14e\", markeredgecolor=\"orange\")\n",
    "plt.plot(y_pred_low_error, linewidth=0, marker = \"^\", markersize = 6, label=\"Predicted data (test-low)\", color=\"#ffff52\", markeredgecolor=\"gold\")\n",
    "\n",
    "plt.xlabel(\"Date\", fontsize = 14)\n",
    "plt.ylabel(\"Z (m)\", fontsize = 14)\n",
    "plt.legend(loc=\"upper left\", facecolor=\"white\")\n",
    "\n",
    "dark_gray = \"#000000\"\n",
    "light_gray = \"#eeeeee\"\n",
    "\n",
    "ax = fig.axes[0]\n",
    "ax.spines[\"top\"].set_visible(False)\n",
    "ax.spines[\"right\"].set_visible(False)\n",
    "ax.spines[\"left\"].set_color(dark_gray)\n",
    "ax.spines[\"bottom\"].set_color(dark_gray)\n",
    "\n",
    "ax.set_facecolor('xkcd:white')\n",
    "\n",
    "ax.get_yaxis().tick_left()\n",
    "ax.get_xaxis().tick_bottom()\n",
    "\n",
    "ax.tick_params(axis=\"both\", which=\"major\", labelsize=10, colors=dark_gray)\n",
    "ax.tick_params(axis=\"both\", which=\"minor\", labelsize=8, colors=dark_gray)\n",
    "ax.xaxis.label.set_color(dark_gray)\n",
    "ax.yaxis.label.set_color(dark_gray)\n",
    "\n",
    "ax.yaxis.grid(True, color=light_gray)\n",
    "ax.xaxis.grid(True, color=light_gray)\n",
    "\n",
    "ax.xaxis.set_major_locator(mdates.MonthLocator(bymonth=(1, 7)))\n"
   ]
  },
  {
   "cell_type": "code",
   "execution_count": null,
   "id": "f17825c7-cfa9-4460-ada6-4c54b7a4cf8c",
   "metadata": {},
   "outputs": [],
   "source": [
    "fig = plt.figure(figsize=(12,6))\n",
    "fig, ax1 = plt.subplots()\n",
    "\n",
    "ax2 = ax1.twinx()\n",
    "ax1.plot(data[\"Thermocline_depth\"], linewidth=0, marker = \"o\", markersize = 3, label=\"Real data (train)\", color=\"darkslateblue\")\n",
    "ax2.plot(data[\"Level\"], linewidth=0, marker = \"o\", markersize = 3, label=\"Level\", color=\"red\")"
   ]
  },
  {
   "cell_type": "markdown",
   "id": "9eb32435",
   "metadata": {},
   "source": [
    "## SHAP values"
   ]
  },
  {
   "cell_type": "code",
   "execution_count": null,
   "id": "e3af6906",
   "metadata": {},
   "outputs": [],
   "source": [
    "# Fits the explainer\n",
    "explainer = shap.Explainer(NN_regr.predict, X_train)\n",
    "\n",
    "# Calculates the SHAP values \n",
    "shap_values = explainer(X_test)"
   ]
  },
  {
   "cell_type": "code",
   "execution_count": null,
   "id": "fdfb5ff6",
   "metadata": {},
   "outputs": [],
   "source": [
    "# Summarize the effects of features\n",
    "shap.plots.beeswarm(shap_values, color=plt.get_cmap(\"plasma\"))"
   ]
  },
  {
   "cell_type": "code",
   "execution_count": null,
   "id": "c1a7114e",
   "metadata": {},
   "outputs": [],
   "source": [
    "shap.plots.bar(shap_values)"
   ]
  },
  {
   "cell_type": "code",
   "execution_count": null,
   "id": "168c3105",
   "metadata": {},
   "outputs": [],
   "source": [
    "abs(shap_values.values).mean(axis=0)"
   ]
  }
 ],
 "metadata": {
  "kernelspec": {
   "display_name": "Python 3 (ipykernel)",
   "language": "python",
   "name": "python3"
  },
  "language_info": {
   "codemirror_mode": {
    "name": "ipython",
    "version": 3
   },
   "file_extension": ".py",
   "mimetype": "text/x-python",
   "name": "python",
   "nbconvert_exporter": "python",
   "pygments_lexer": "ipython3",
   "version": "3.11.5"
  }
 },
 "nbformat": 4,
 "nbformat_minor": 5
}
